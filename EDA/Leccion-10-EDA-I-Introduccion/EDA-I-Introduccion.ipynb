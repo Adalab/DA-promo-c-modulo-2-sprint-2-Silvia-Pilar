{
 "cells": [
  {
   "attachments": {},
   "cell_type": "markdown",
   "metadata": {},
   "source": [
    "# Ejercicios Pair Programming \n",
    "## Lección 10 - EDA I"
   ]
  },
  {
   "attachments": {},
   "cell_type": "markdown",
   "metadata": {},
   "source": [
    "Empezamos una nueva lección, y este es el momento de poner en práctica los conocimientos adquiridos del Análisis Exploratorio de Datos. Si recordamos, en la lecciones de Pandas estuvimos usando un dataset sobre ataques de tiburones, y que hicimos algunos cambios a lo largo de los ejercicios, incluimos filas, columnas e incluso limpiamos algunas colummas 💪🏽! Para todas los ejercicios de pair programming de EDA I y II usaremos el dataframe generado en el ejercicio de Pandas VII.\n",
    "\n",
    "En el ejercicio de hoy nos familiarizaremos con el dataset completo sobre el que trabajaremos en la parte de limpieza.\n",
    "\n",
    "Pero para hacer una exploración buena del dataset no lo podemos hacer como pollo sin cabeza a ver que nos encontramos. Necesitamos hacernos una serie de preguntas o hipótesis que queramos contestar. En este caso os plantemos las siguientes preguntas a contestar a lo largo de los ejercicios de pair programming de este módulo:"
   ]
  },
  {
   "attachments": {},
   "cell_type": "markdown",
   "metadata": {},
   "source": [
    "### Hipótesis"
   ]
  },
  {
   "attachments": {},
   "cell_type": "markdown",
   "metadata": {},
   "source": [
    "Las hipótesis que os planteamos son:\n",
    "- ¿Es Australia el sitio más peligroso y letal para estar relajada en la playa?\n",
    "- ¿Hay diferencias entre los países en los ataques a hombres y mujeres?\n",
    "- ¿Cuáles son las edades que más sufren ataques?\n",
    "- Independientemente de la edad, ¿sufren los hombres más ataques que las mujeres?\n",
    "- ¿En qué mes ocurren más ataques?\n",
    "- ¿Cuál es la relación entre la especie y el tipo de ataque (si es fatal o no)?\n",
    "- ¿Cómo han evolucionado los ataques a lo largo del tiempo?"
   ]
  },
  {
   "cell_type": "code",
   "execution_count": 1,
   "metadata": {},
   "outputs": [],
   "source": [
    "import pandas as pd"
   ]
  },
  {
   "cell_type": "code",
   "execution_count": 2,
   "metadata": {},
   "outputs": [],
   "source": [
    "pd.options.display.max_columns = None"
   ]
  },
  {
   "cell_type": "code",
   "execution_count": 3,
   "metadata": {},
   "outputs": [],
   "source": [
    "df = pd.read_csv(\"attacks4.csv\", index_col = 0)"
   ]
  },
  {
   "cell_type": "code",
   "execution_count": 4,
   "metadata": {},
   "outputs": [
    {
     "data": {
      "text/html": [
       "<div>\n",
       "<style scoped>\n",
       "    .dataframe tbody tr th:only-of-type {\n",
       "        vertical-align: middle;\n",
       "    }\n",
       "\n",
       "    .dataframe tbody tr th {\n",
       "        vertical-align: top;\n",
       "    }\n",
       "\n",
       "    .dataframe thead th {\n",
       "        text-align: right;\n",
       "    }\n",
       "</style>\n",
       "<table border=\"1\" class=\"dataframe\">\n",
       "  <thead>\n",
       "    <tr style=\"text-align: right;\">\n",
       "      <th></th>\n",
       "      <th>case_number</th>\n",
       "      <th>year</th>\n",
       "      <th>type</th>\n",
       "      <th>country</th>\n",
       "      <th>area</th>\n",
       "      <th>location</th>\n",
       "      <th>activity</th>\n",
       "      <th>name</th>\n",
       "      <th>age</th>\n",
       "      <th>time</th>\n",
       "      <th>species_</th>\n",
       "      <th>href</th>\n",
       "      <th>siglo</th>\n",
       "      <th>unnamed:_0</th>\n",
       "      <th>injury</th>\n",
       "      <th>mes</th>\n",
       "      <th>fatal</th>\n",
       "      <th>sex</th>\n",
       "    </tr>\n",
       "  </thead>\n",
       "  <tbody>\n",
       "    <tr>\n",
       "      <th>0</th>\n",
       "      <td>2018.06.25</td>\n",
       "      <td>2018.0</td>\n",
       "      <td>Boating</td>\n",
       "      <td>USA</td>\n",
       "      <td>California</td>\n",
       "      <td>Oceanside, San Diego County</td>\n",
       "      <td>Paddling</td>\n",
       "      <td>Julie Wolfe</td>\n",
       "      <td>57</td>\n",
       "      <td>18h00</td>\n",
       "      <td>White shark</td>\n",
       "      <td>http://sharkattackfile.net/spreadsheets/pdf_di...</td>\n",
       "      <td>siglo-XXI</td>\n",
       "      <td>0</td>\n",
       "      <td>No injury to occupant, outrigger canoe and pad...</td>\n",
       "      <td>Jun</td>\n",
       "      <td>N</td>\n",
       "      <td>F</td>\n",
       "    </tr>\n",
       "    <tr>\n",
       "      <th>1</th>\n",
       "      <td>2018.06.03.a</td>\n",
       "      <td>2018.0</td>\n",
       "      <td>Unprovoked</td>\n",
       "      <td>BRAZIL</td>\n",
       "      <td>Pernambuco</td>\n",
       "      <td>Piedade Beach, Recife</td>\n",
       "      <td>Swimming</td>\n",
       "      <td>Jose Ernesto da Silva</td>\n",
       "      <td>18</td>\n",
       "      <td>Late afternoon</td>\n",
       "      <td>Tiger shark</td>\n",
       "      <td>http://sharkattackfile.net/spreadsheets/pdf_di...</td>\n",
       "      <td>siglo-XXI</td>\n",
       "      <td>6</td>\n",
       "      <td>FATAL</td>\n",
       "      <td>Jun</td>\n",
       "      <td>Y</td>\n",
       "      <td>M</td>\n",
       "    </tr>\n",
       "  </tbody>\n",
       "</table>\n",
       "</div>"
      ],
      "text/plain": [
       "    case_number    year        type country        area  \\\n",
       "0    2018.06.25  2018.0     Boating     USA  California   \n",
       "1  2018.06.03.a  2018.0  Unprovoked  BRAZIL  Pernambuco   \n",
       "\n",
       "                      location  activity                    name age  \\\n",
       "0  Oceanside, San Diego County  Paddling             Julie Wolfe  57   \n",
       "1        Piedade Beach, Recife  Swimming  Jose Ernesto da Silva   18   \n",
       "\n",
       "             time     species_  \\\n",
       "0           18h00  White shark   \n",
       "1  Late afternoon  Tiger shark   \n",
       "\n",
       "                                                href      siglo  unnamed:_0  \\\n",
       "0  http://sharkattackfile.net/spreadsheets/pdf_di...  siglo-XXI           0   \n",
       "1  http://sharkattackfile.net/spreadsheets/pdf_di...  siglo-XXI           6   \n",
       "\n",
       "                                              injury  mes fatal sex  \n",
       "0  No injury to occupant, outrigger canoe and pad...  Jun     N   F  \n",
       "1                                              FATAL  Jun     Y   M  "
      ]
     },
     "execution_count": 4,
     "metadata": {},
     "output_type": "execute_result"
    }
   ],
   "source": [
    "df.head(2)"
   ]
  },
  {
   "attachments": {},
   "cell_type": "markdown",
   "metadata": {},
   "source": [
    "### Objetivos"
   ]
  },
  {
   "attachments": {},
   "cell_type": "markdown",
   "metadata": {},
   "source": [
    "Los objetivos de hoy son:\n",
    "1. Haced una exploración inicial del dataframe:"
   ]
  },
  {
   "attachments": {},
   "cell_type": "markdown",
   "metadata": {},
   "source": [
    "- ¿Cuál es el número de filas y columnas?"
   ]
  },
  {
   "cell_type": "code",
   "execution_count": 5,
   "metadata": {},
   "outputs": [
    {
     "name": "stdout",
     "output_type": "stream",
     "text": [
      "El número de filas de nuestro DataFrame es 1672 y el número de columnas es 18\n"
     ]
    }
   ],
   "source": [
    "print(f\"El número de filas de nuestro DataFrame es {df.shape[0]} y el número de columnas es {df.shape[1]}\")"
   ]
  },
  {
   "attachments": {},
   "cell_type": "markdown",
   "metadata": {},
   "source": [
    "- ¿Cuál es el porcentaje de valores nulos en cada columna? Presenta los resultados en un dataframe, donde las columnas sean el nombre de las variables y el porcentaje de nulos."
   ]
  },
  {
   "cell_type": "code",
   "execution_count": 6,
   "metadata": {},
   "outputs": [
    {
     "data": {
      "text/html": [
       "<div>\n",
       "<style scoped>\n",
       "    .dataframe tbody tr th:only-of-type {\n",
       "        vertical-align: middle;\n",
       "    }\n",
       "\n",
       "    .dataframe tbody tr th {\n",
       "        vertical-align: top;\n",
       "    }\n",
       "\n",
       "    .dataframe thead th {\n",
       "        text-align: right;\n",
       "    }\n",
       "</style>\n",
       "<table border=\"1\" class=\"dataframe\">\n",
       "  <thead>\n",
       "    <tr style=\"text-align: right;\">\n",
       "      <th></th>\n",
       "      <th>case_number</th>\n",
       "      <th>year</th>\n",
       "      <th>type</th>\n",
       "      <th>country</th>\n",
       "      <th>area</th>\n",
       "      <th>location</th>\n",
       "      <th>activity</th>\n",
       "      <th>name</th>\n",
       "      <th>age</th>\n",
       "      <th>time</th>\n",
       "      <th>species_</th>\n",
       "      <th>href</th>\n",
       "      <th>siglo</th>\n",
       "      <th>unnamed:_0</th>\n",
       "      <th>injury</th>\n",
       "      <th>mes</th>\n",
       "      <th>fatal</th>\n",
       "      <th>sex</th>\n",
       "    </tr>\n",
       "  </thead>\n",
       "  <tbody>\n",
       "    <tr>\n",
       "      <th>0</th>\n",
       "      <td>0.0</td>\n",
       "      <td>0.0</td>\n",
       "      <td>0.0</td>\n",
       "      <td>0.598086</td>\n",
       "      <td>2.751196</td>\n",
       "      <td>3.050239</td>\n",
       "      <td>1.854067</td>\n",
       "      <td>0.538278</td>\n",
       "      <td>9.210526</td>\n",
       "      <td>9.569378</td>\n",
       "      <td>7.535885</td>\n",
       "      <td>0.0</td>\n",
       "      <td>0.0</td>\n",
       "      <td>0.0</td>\n",
       "      <td>0.478469</td>\n",
       "      <td>13.038278</td>\n",
       "      <td>5.801435</td>\n",
       "      <td>0.897129</td>\n",
       "    </tr>\n",
       "  </tbody>\n",
       "</table>\n",
       "</div>"
      ],
      "text/plain": [
       "   case_number  year  type   country      area  location  activity      name  \\\n",
       "0          0.0   0.0   0.0  0.598086  2.751196  3.050239  1.854067  0.538278   \n",
       "\n",
       "        age      time  species_  href  siglo  unnamed:_0    injury        mes  \\\n",
       "0  9.210526  9.569378  7.535885   0.0    0.0         0.0  0.478469  13.038278   \n",
       "\n",
       "      fatal       sex  \n",
       "0  5.801435  0.897129  "
      ]
     },
     "execution_count": 6,
     "metadata": {},
     "output_type": "execute_result"
    }
   ],
   "source": [
    "df_porcentaje = pd.DataFrame(df.isnull().sum()*100/df.shape[0]).T\n",
    "df_porcentaje"
   ]
  },
  {
   "attachments": {},
   "cell_type": "markdown",
   "metadata": {},
   "source": [
    "- ¿Qué tipos de datos hay en cada columna?"
   ]
  },
  {
   "cell_type": "code",
   "execution_count": 7,
   "metadata": {},
   "outputs": [
    {
     "data": {
      "text/plain": [
       "case_number     object\n",
       "year           float64\n",
       "type            object\n",
       "country         object\n",
       "area            object\n",
       "location        object\n",
       "activity        object\n",
       "name            object\n",
       "age             object\n",
       "time            object\n",
       "species_        object\n",
       "href            object\n",
       "siglo           object\n",
       "unnamed:_0       int64\n",
       "injury          object\n",
       "mes             object\n",
       "fatal           object\n",
       "sex             object\n",
       "dtype: object"
      ]
     },
     "execution_count": 7,
     "metadata": {},
     "output_type": "execute_result"
    }
   ],
   "source": [
    "df.dtypes"
   ]
  },
  {
   "attachments": {},
   "cell_type": "markdown",
   "metadata": {},
   "source": [
    "- Extraed la información general del dataframe."
   ]
  },
  {
   "cell_type": "code",
   "execution_count": 8,
   "metadata": {},
   "outputs": [
    {
     "name": "stdout",
     "output_type": "stream",
     "text": [
      "<class 'pandas.core.frame.DataFrame'>\n",
      "Int64Index: 1672 entries, 0 to 1671\n",
      "Data columns (total 18 columns):\n",
      " #   Column       Non-Null Count  Dtype  \n",
      "---  ------       --------------  -----  \n",
      " 0   case_number  1672 non-null   object \n",
      " 1   year         1672 non-null   float64\n",
      " 2   type         1672 non-null   object \n",
      " 3   country      1662 non-null   object \n",
      " 4   area         1626 non-null   object \n",
      " 5   location     1621 non-null   object \n",
      " 6   activity     1641 non-null   object \n",
      " 7   name         1663 non-null   object \n",
      " 8   age          1518 non-null   object \n",
      " 9   time         1512 non-null   object \n",
      " 10  species_     1546 non-null   object \n",
      " 11  href         1672 non-null   object \n",
      " 12  siglo        1672 non-null   object \n",
      " 13  unnamed:_0   1672 non-null   int64  \n",
      " 14  injury       1664 non-null   object \n",
      " 15  mes          1454 non-null   object \n",
      " 16  fatal        1575 non-null   object \n",
      " 17  sex          1657 non-null   object \n",
      "dtypes: float64(1), int64(1), object(16)\n",
      "memory usage: 248.2+ KB\n"
     ]
    }
   ],
   "source": [
    "df.info()"
   ]
  },
  {
   "attachments": {},
   "cell_type": "markdown",
   "metadata": {},
   "source": [
    "2. Cread dos dataframes nuevos, uno que incluya solo las variables categóricas y otro que incluya solo las variables numéricas."
   ]
  },
  {
   "cell_type": "code",
   "execution_count": 24,
   "metadata": {},
   "outputs": [
    {
     "data": {
      "text/html": [
       "<div>\n",
       "<style scoped>\n",
       "    .dataframe tbody tr th:only-of-type {\n",
       "        vertical-align: middle;\n",
       "    }\n",
       "\n",
       "    .dataframe tbody tr th {\n",
       "        vertical-align: top;\n",
       "    }\n",
       "\n",
       "    .dataframe thead th {\n",
       "        text-align: right;\n",
       "    }\n",
       "</style>\n",
       "<table border=\"1\" class=\"dataframe\">\n",
       "  <thead>\n",
       "    <tr style=\"text-align: right;\">\n",
       "      <th></th>\n",
       "      <th>case_number</th>\n",
       "      <th>type</th>\n",
       "      <th>country</th>\n",
       "      <th>area</th>\n",
       "      <th>location</th>\n",
       "      <th>activity</th>\n",
       "      <th>name</th>\n",
       "      <th>age</th>\n",
       "      <th>time</th>\n",
       "      <th>species_</th>\n",
       "      <th>href</th>\n",
       "      <th>siglo</th>\n",
       "      <th>injury</th>\n",
       "      <th>mes</th>\n",
       "      <th>fatal</th>\n",
       "      <th>sex</th>\n",
       "    </tr>\n",
       "  </thead>\n",
       "  <tbody>\n",
       "    <tr>\n",
       "      <th>count</th>\n",
       "      <td>1672</td>\n",
       "      <td>1672</td>\n",
       "      <td>1662</td>\n",
       "      <td>1626</td>\n",
       "      <td>1621</td>\n",
       "      <td>1641</td>\n",
       "      <td>1663</td>\n",
       "      <td>1518</td>\n",
       "      <td>1512</td>\n",
       "      <td>1546</td>\n",
       "      <td>1672</td>\n",
       "      <td>1672</td>\n",
       "      <td>1664</td>\n",
       "      <td>1454</td>\n",
       "      <td>1575</td>\n",
       "      <td>1657</td>\n",
       "    </tr>\n",
       "    <tr>\n",
       "      <th>unique</th>\n",
       "      <td>1672</td>\n",
       "      <td>6</td>\n",
       "      <td>95</td>\n",
       "      <td>236</td>\n",
       "      <td>1310</td>\n",
       "      <td>404</td>\n",
       "      <td>1536</td>\n",
       "      <td>94</td>\n",
       "      <td>248</td>\n",
       "      <td>856</td>\n",
       "      <td>1672</td>\n",
       "      <td>2</td>\n",
       "      <td>1173</td>\n",
       "      <td>12</td>\n",
       "      <td>2</td>\n",
       "      <td>2</td>\n",
       "    </tr>\n",
       "    <tr>\n",
       "      <th>top</th>\n",
       "      <td>2018.06.25</td>\n",
       "      <td>Unprovoked</td>\n",
       "      <td>USA</td>\n",
       "      <td>Florida</td>\n",
       "      <td>New Smyrna Beach, Volusia County</td>\n",
       "      <td>Surfing</td>\n",
       "      <td>male</td>\n",
       "      <td>19</td>\n",
       "      <td>11h00</td>\n",
       "      <td>White shark</td>\n",
       "      <td>http://sharkattackfile.net/spreadsheets/pdf_di...</td>\n",
       "      <td>siglo-XX</td>\n",
       "      <td>FATAL</td>\n",
       "      <td>Aug</td>\n",
       "      <td>N</td>\n",
       "      <td>M</td>\n",
       "    </tr>\n",
       "    <tr>\n",
       "      <th>freq</th>\n",
       "      <td>1</td>\n",
       "      <td>1432</td>\n",
       "      <td>741</td>\n",
       "      <td>346</td>\n",
       "      <td>73</td>\n",
       "      <td>426</td>\n",
       "      <td>97</td>\n",
       "      <td>70</td>\n",
       "      <td>74</td>\n",
       "      <td>76</td>\n",
       "      <td>1</td>\n",
       "      <td>887</td>\n",
       "      <td>154</td>\n",
       "      <td>153</td>\n",
       "      <td>1258</td>\n",
       "      <td>1435</td>\n",
       "    </tr>\n",
       "  </tbody>\n",
       "</table>\n",
       "</div>"
      ],
      "text/plain": [
       "       case_number        type country     area  \\\n",
       "count         1672        1672    1662     1626   \n",
       "unique        1672           6      95      236   \n",
       "top     2018.06.25  Unprovoked     USA  Florida   \n",
       "freq             1        1432     741      346   \n",
       "\n",
       "                                location activity  name   age   time  \\\n",
       "count                               1621     1641  1663  1518   1512   \n",
       "unique                              1310      404  1536    94    248   \n",
       "top     New Smyrna Beach, Volusia County  Surfing  male    19  11h00   \n",
       "freq                                  73      426    97    70     74   \n",
       "\n",
       "           species_                                               href  \\\n",
       "count          1546                                               1672   \n",
       "unique          856                                               1672   \n",
       "top     White shark  http://sharkattackfile.net/spreadsheets/pdf_di...   \n",
       "freq             76                                                  1   \n",
       "\n",
       "           siglo injury   mes fatal   sex  \n",
       "count       1672   1664  1454  1575  1657  \n",
       "unique         2   1173    12     2     2  \n",
       "top     siglo-XX  FATAL   Aug     N     M  \n",
       "freq         887    154   153  1258  1435  "
      ]
     },
     "execution_count": 24,
     "metadata": {},
     "output_type": "execute_result"
    }
   ],
   "source": [
    "df_categoricas = pd.DataFrame(df.describe(include = \"object\"))\n",
    "df_categoricas"
   ]
  },
  {
   "cell_type": "code",
   "execution_count": 10,
   "metadata": {},
   "outputs": [
    {
     "data": {
      "text/html": [
       "<div>\n",
       "<style scoped>\n",
       "    .dataframe tbody tr th:only-of-type {\n",
       "        vertical-align: middle;\n",
       "    }\n",
       "\n",
       "    .dataframe tbody tr th {\n",
       "        vertical-align: top;\n",
       "    }\n",
       "\n",
       "    .dataframe thead th {\n",
       "        text-align: right;\n",
       "    }\n",
       "</style>\n",
       "<table border=\"1\" class=\"dataframe\">\n",
       "  <thead>\n",
       "    <tr style=\"text-align: right;\">\n",
       "      <th></th>\n",
       "      <th>count</th>\n",
       "      <th>mean</th>\n",
       "      <th>std</th>\n",
       "      <th>min</th>\n",
       "      <th>25%</th>\n",
       "      <th>50%</th>\n",
       "      <th>75%</th>\n",
       "      <th>max</th>\n",
       "    </tr>\n",
       "  </thead>\n",
       "  <tbody>\n",
       "    <tr>\n",
       "      <th>year</th>\n",
       "      <td>1672.0</td>\n",
       "      <td>1832.688397</td>\n",
       "      <td>528.969901</td>\n",
       "      <td>0.0</td>\n",
       "      <td>1964.00</td>\n",
       "      <td>1997.0</td>\n",
       "      <td>2008.0</td>\n",
       "      <td>2018.0</td>\n",
       "    </tr>\n",
       "    <tr>\n",
       "      <th>unnamed:_0</th>\n",
       "      <td>1672.0</td>\n",
       "      <td>2574.174043</td>\n",
       "      <td>1756.622536</td>\n",
       "      <td>0.0</td>\n",
       "      <td>1218.25</td>\n",
       "      <td>2210.0</td>\n",
       "      <td>3687.5</td>\n",
       "      <td>6285.0</td>\n",
       "    </tr>\n",
       "  </tbody>\n",
       "</table>\n",
       "</div>"
      ],
      "text/plain": [
       "             count         mean          std  min      25%     50%     75%  \\\n",
       "year        1672.0  1832.688397   528.969901  0.0  1964.00  1997.0  2008.0   \n",
       "unnamed:_0  1672.0  2574.174043  1756.622536  0.0  1218.25  2210.0  3687.5   \n",
       "\n",
       "               max  \n",
       "year        2018.0  \n",
       "unnamed:_0  6285.0  "
      ]
     },
     "execution_count": 10,
     "metadata": {},
     "output_type": "execute_result"
    }
   ],
   "source": [
    "df_numericas = pd.DataFrame(df.describe()).T\n",
    "df_numericas"
   ]
  },
  {
   "attachments": {},
   "cell_type": "markdown",
   "metadata": {},
   "source": [
    "- ¿Cuáles son los principales estádisticos de los dataframes?"
   ]
  },
  {
   "attachments": {},
   "cell_type": "markdown",
   "metadata": {},
   "source": [
    "De las variables numéricas sólo tenemos la columna 'year', y sus principales estadísticos tienen un valor de:\n",
    "- Hay un total de 1672 filas.\n",
    "- La media es de 1832,68 años.\n",
    "- La desviación estándar es de 528,96 con respecto a la media.\n",
    "- El año menor es el 0 y el año mayor es el 2018.\n",
    "- El cuartil 1 es el año 1964 (el 25 % de los datos es inferior a 1964)\n",
    "- El cuartil 2 o mediana es el año 1997.\n",
    "- El cuartil 3 es el año 2008."
   ]
  },
  {
   "attachments": {},
   "cell_type": "markdown",
   "metadata": {},
   "source": [
    "De las variables categóricas tenemos el resto de las columnas y sus principales estadísticos son:\n",
    "- Número total de filas.\n",
    "- Los valores únicos de cada columna.\n",
    "- Top, que es la moda, valor que más se repite.\n",
    "- Y la frecuencia de dicho top."
   ]
  },
  {
   "attachments": {},
   "cell_type": "markdown",
   "metadata": {},
   "source": [
    "- Extraed los valores únicos su frecuencia. BONUS presenta los resultados en un dataframe.\n",
    "\n",
    "Donde variable es cada una de las variables categóricas que tenemos en el dataset y n_unicos es una lista con los nombres de los valores únicos de cada variable."
   ]
  },
  {
   "cell_type": "code",
   "execution_count": 17,
   "metadata": {},
   "outputs": [
    {
     "name": "stdout",
     "output_type": "stream",
     "text": [
      "--------------\n",
      "En la columna 'count' tenemos los siguientes valores:\n",
      "      count\n",
      "1672      4\n",
      "1662      1\n",
      "1626      1\n",
      "1621      1\n",
      "1641      1\n",
      "1663      1\n",
      "1518      1\n",
      "1512      1\n",
      "1546      1\n",
      "1664      1\n",
      "1454      1\n",
      "1575      1\n",
      "1657      1\n",
      "--------------\n",
      "--------------\n",
      "En la columna 'unique' tenemos los siguientes valores:\n",
      "      unique\n",
      "2          3\n",
      "1672       2\n",
      "6          1\n",
      "95         1\n",
      "236        1\n",
      "1310       1\n",
      "404        1\n",
      "1536       1\n",
      "94         1\n",
      "248        1\n",
      "856        1\n",
      "1173       1\n",
      "12         1\n",
      "--------------\n",
      "--------------\n",
      "En la columna 'top' tenemos los siguientes valores:\n",
      "                                                    top\n",
      "2018.06.25                                            1\n",
      "Unprovoked                                            1\n",
      "USA                                                   1\n",
      "Florida                                               1\n",
      "New Smyrna Beach, Volusia County                      1\n",
      "Surfing                                               1\n",
      "male                                                  1\n",
      "19                                                    1\n",
      "11h00                                                 1\n",
      "White shark                                           1\n",
      "http://sharkattackfile.net/spreadsheets/pdf_dir...    1\n",
      "siglo-XX                                              1\n",
      "FATAL                                                 1\n",
      "Aug                                                   1\n",
      "N                                                     1\n",
      "M                                                     1\n",
      "--------------\n",
      "--------------\n",
      "En la columna 'freq' tenemos los siguientes valores:\n",
      "      freq\n",
      "1        2\n",
      "1432     1\n",
      "741      1\n",
      "346      1\n",
      "73       1\n",
      "426      1\n",
      "97       1\n",
      "70       1\n",
      "74       1\n",
      "76       1\n",
      "887      1\n",
      "154      1\n",
      "153      1\n",
      "1258     1\n",
      "1435     1\n",
      "--------------\n"
     ]
    }
   ],
   "source": [
    "#frecuencia\n",
    "for col in df_categoricas.columns:\n",
    "    print(\"--------------\")\n",
    "    print(f\"En la columna '{col}' tenemos los siguientes valores:\")\n",
    "    print(pd.DataFrame(df_categoricas[col].value_counts()))\n",
    "    print(\"--------------\")"
   ]
  },
  {
   "cell_type": "code",
   "execution_count": 19,
   "metadata": {},
   "outputs": [
    {
     "data": {
      "text/plain": [
       "Index(['case_number', 'type', 'country', 'area', 'location', 'activity',\n",
       "       'name', 'age', 'time', 'species_', 'href', 'siglo', 'injury', 'mes',\n",
       "       'fatal', 'sex'],\n",
       "      dtype='object')"
      ]
     },
     "execution_count": 19,
     "metadata": {},
     "output_type": "execute_result"
    }
   ],
   "source": [
    "df_categoricas.index"
   ]
  },
  {
   "cell_type": "code",
   "execution_count": 28,
   "metadata": {},
   "outputs": [
    {
     "name": "stdout",
     "output_type": "stream",
     "text": [
      "--------------\n",
      "case_number\n",
      "['2018.06.25' '2018.06.03.a' '2018.05.26.b' ... 'ND.0003' 'ND.0002'\n",
      " 'ND.0001']\n",
      "--------------\n"
     ]
    },
    {
     "ename": "NameError",
     "evalue": "name 'df_bonus' is not defined",
     "output_type": "error",
     "traceback": [
      "\u001b[0;31m---------------------------------------------------------------------------\u001b[0m",
      "\u001b[0;31mNameError\u001b[0m                                 Traceback (most recent call last)",
      "Cell \u001b[0;32mIn [28], line 6\u001b[0m\n\u001b[1;32m      4\u001b[0m     \u001b[39mprint\u001b[39m(df[col]\u001b[39m.\u001b[39munique())\n\u001b[1;32m      5\u001b[0m     \u001b[39mprint\u001b[39m(\u001b[39m\"\u001b[39m\u001b[39m--------------\u001b[39m\u001b[39m\"\u001b[39m)\n\u001b[0;32m----> 6\u001b[0m     df_bonus\u001b[39m.\u001b[39massign(col \u001b[39m=\u001b[39m df[col]\u001b[39m.\u001b[39munique())\n\u001b[1;32m      7\u001b[0m df_bonus\n",
      "\u001b[0;31mNameError\u001b[0m: name 'df_bonus' is not defined"
     ]
    }
   ],
   "source": [
    "for col in df_categoricas.columns:\n",
    "    print(\"--------------\")\n",
    "    print(col)\n",
    "    print(df[col].unique())\n",
    "    print(\"--------------\")"
   ]
  },
  {
   "cell_type": "code",
   "execution_count": 14,
   "metadata": {},
   "outputs": [
    {
     "name": "stdout",
     "output_type": "stream",
     "text": [
      "Index(['case_number', 'type', 'country', 'area', 'location', 'activity',\n",
      "       'name', 'age', 'time', 'species_', 'href', 'siglo', 'injury', 'mes',\n",
      "       'fatal', 'sex'],\n",
      "      dtype='object')\n",
      "[1672 1662 1626 1621 1641 1663 1518 1512 1546 1664 1454 1575 1657]\n",
      "1672    4\n",
      "1662    1\n",
      "1626    1\n",
      "1621    1\n",
      "1641    1\n",
      "1663    1\n",
      "1518    1\n",
      "1512    1\n",
      "1546    1\n",
      "1664    1\n",
      "1454    1\n",
      "1575    1\n",
      "1657    1\n",
      "Name: count, dtype: int64\n",
      "--------------\n",
      "Index(['case_number', 'type', 'country', 'area', 'location', 'activity',\n",
      "       'name', 'age', 'time', 'species_', 'href', 'siglo', 'injury', 'mes',\n",
      "       'fatal', 'sex'],\n",
      "      dtype='object')\n",
      "[1672 6 95 236 1310 404 1536 94 248 856 2 1173 12]\n",
      "2       3\n",
      "1672    2\n",
      "6       1\n",
      "95      1\n",
      "236     1\n",
      "1310    1\n",
      "404     1\n",
      "1536    1\n",
      "94      1\n",
      "248     1\n",
      "856     1\n",
      "1173    1\n",
      "12      1\n",
      "Name: unique, dtype: int64\n",
      "--------------\n",
      "Index(['case_number', 'type', 'country', 'area', 'location', 'activity',\n",
      "       'name', 'age', 'time', 'species_', 'href', 'siglo', 'injury', 'mes',\n",
      "       'fatal', 'sex'],\n",
      "      dtype='object')\n",
      "['2018.06.25' 'Unprovoked' 'USA' 'Florida'\n",
      " 'New Smyrna Beach, Volusia County' 'Surfing' 'male' '19' '11h00'\n",
      " 'White shark'\n",
      " 'http://sharkattackfile.net/spreadsheets/pdf_directory/2018.06.25-Wolfe.pdf'\n",
      " 'siglo-XX' 'FATAL' 'Aug' 'N' 'M']\n",
      "2018.06.25                                                                    1\n",
      "Unprovoked                                                                    1\n",
      "USA                                                                           1\n",
      "Florida                                                                       1\n",
      "New Smyrna Beach, Volusia County                                              1\n",
      "Surfing                                                                       1\n",
      "male                                                                          1\n",
      "19                                                                            1\n",
      "11h00                                                                         1\n",
      "White shark                                                                   1\n",
      "http://sharkattackfile.net/spreadsheets/pdf_directory/2018.06.25-Wolfe.pdf    1\n",
      "siglo-XX                                                                      1\n",
      "FATAL                                                                         1\n",
      "Aug                                                                           1\n",
      "N                                                                             1\n",
      "M                                                                             1\n",
      "Name: top, dtype: int64\n",
      "--------------\n",
      "Index(['case_number', 'type', 'country', 'area', 'location', 'activity',\n",
      "       'name', 'age', 'time', 'species_', 'href', 'siglo', 'injury', 'mes',\n",
      "       'fatal', 'sex'],\n",
      "      dtype='object')\n",
      "[1 1432 741 346 73 426 97 70 74 76 887 154 153 1258 1435]\n",
      "1       2\n",
      "1432    1\n",
      "741     1\n",
      "346     1\n",
      "73      1\n",
      "426     1\n",
      "97      1\n",
      "70      1\n",
      "74      1\n",
      "76      1\n",
      "887     1\n",
      "154     1\n",
      "153     1\n",
      "1258    1\n",
      "1435    1\n",
      "Name: freq, dtype: int64\n",
      "--------------\n"
     ]
    }
   ],
   "source": [
    "#df_frecuencia = pd.DataFrame()\n",
    "for col in df_categoricas.columns:\n",
    "    print(df_categoricas.index)\n",
    "    print(df_categoricas[col].unique())\n",
    "    print(df_categoricas[col].value_counts())\n",
    "    print(\"--------------\")"
   ]
  },
  {
   "attachments": {},
   "cell_type": "markdown",
   "metadata": {},
   "source": [
    "### Conclusiones"
   ]
  },
  {
   "attachments": {},
   "cell_type": "markdown",
   "metadata": {},
   "source": [
    "De qué nos sirven estos números y dataframe? Extraed conclusiones de ellos.\n",
    "\n",
    "Por ejemplo:\n",
    "- ¿Hay alguna columna que no tenga sentido su tipo de datos?"
   ]
  },
  {
   "cell_type": "markdown",
   "metadata": {},
   "source": []
  },
  {
   "attachments": {},
   "cell_type": "markdown",
   "metadata": {},
   "source": [
    "- ¿Hay alguna columna que no tenga sentido su contenido?"
   ]
  },
  {
   "cell_type": "markdown",
   "metadata": {},
   "source": []
  },
  {
   "attachments": {},
   "cell_type": "markdown",
   "metadata": {},
   "source": [
    "- ¿Hay alguna columna que tenga demasiadas categorías o valores que nos pueda hacer difícil trabajar con ella?"
   ]
  },
  {
   "cell_type": "markdown",
   "metadata": {},
   "source": []
  },
  {
   "attachments": {},
   "cell_type": "markdown",
   "metadata": {},
   "source": [
    "Happy coding 🦈"
   ]
  }
 ],
 "metadata": {
  "kernelspec": {
   "display_name": "Python 3",
   "language": "python",
   "name": "python3"
  },
  "language_info": {
   "codemirror_mode": {
    "name": "ipython",
    "version": 3
   },
   "file_extension": ".py",
   "mimetype": "text/x-python",
   "name": "python",
   "nbconvert_exporter": "python",
   "pygments_lexer": "ipython3",
   "version": "3.10.5 (tags/v3.10.5:f377153, Jun  6 2022, 16:14:13) [MSC v.1929 64 bit (AMD64)]"
  },
  "orig_nbformat": 4,
  "vscode": {
   "interpreter": {
    "hash": "8c8a315b11d35e0bc8e73c6f82343947dc27883c3d37ade79ad89feb1fc5ee64"
   }
  }
 },
 "nbformat": 4,
 "nbformat_minor": 2
}
